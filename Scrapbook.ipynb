{
 "cells": [
  {
   "cell_type": "code",
   "execution_count": null,
   "metadata": {},
   "outputs": [],
   "source": [
    "import requests\n",
    "\n",
    "CLIENT_ID = 'SNQPC40OLYSGHMEL2M0F0R0I3NL1O4LIMX3ZGIHOUJX4F4DK' # your Foursquare ID\n",
    "CLIENT_SECRET = 'Z2HY1TOF43IEZV3VZWKAC0GXIH1U5NDKZOEGTNMERVETWXQF' # your Foursquare Secret\n",
    "VERSION = '20180605' # Foursquare API version\n",
    "\n",
    "print('Your credentials:')\n",
    "print('CLIENT_ID: ' + CLIENT_ID)\n",
    "print('CLIENT_SECRET:' + CLIENT_SECRET)\n",
    "\n",
    "# type your answer here\n",
    "LIMIT = 100 # limit of number of venues returned by Foursquare API\n",
    "radius = 100 # define radius\n",
    "\n",
    "NEAR = 'Singapore'\n",
    "QUERY = 'law'\n",
    "\n",
    "url = 'https://api.foursquare.com/v2/venues/search?&client_id={}&client_secret={}&v={}&near={}&query={}&limit={}'.format(\n",
    "    CLIENT_ID, \n",
    "    CLIENT_SECRET, \n",
    "    VERSION, \n",
    "    NEAR, \n",
    "    QUERY, \n",
    "    LIMIT)\n",
    "\n",
    "results = requests.get(url).json()\n",
    "results\n",
    "\n",
    "results['response']['venues'][0]\n",
    "\n",
    "# make the GET request\n",
    "        results = requests.get(url).json()[\"response\"]['groups'][0]['items']"
   ]
  }
 ],
 "metadata": {
  "kernelspec": {
   "display_name": "Python 3",
   "language": "python",
   "name": "python3"
  },
  "language_info": {
   "codemirror_mode": {
    "name": "ipython",
    "version": 3
   },
   "file_extension": ".py",
   "mimetype": "text/x-python",
   "name": "python",
   "nbconvert_exporter": "python",
   "pygments_lexer": "ipython3",
   "version": "3.7.3"
  }
 },
 "nbformat": 4,
 "nbformat_minor": 2
}
