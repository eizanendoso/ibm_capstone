{
 "cells": [
  {
   "cell_type": "markdown",
   "metadata": {},
   "source": [
    "# Introduction/Business Problem"
   ]
  },
  {
   "cell_type": "markdown",
   "metadata": {},
   "source": [
    "For simple private matters, are lawyers evenly distributed enough for people in residential areas in Singapore to have even access to lawyers? The assumption is that one is likely to find a lawyer in the area around the State Courts. However, for simple matters, renown and reputation becomes less of an issue, so convenient access and cost may be a more relevant factor. Solving this question would be of interest to lawyers seeking new places to cite their practices, or for Singaporeans interested in knowing where to find lawyers closest to them."
   ]
  },
  {
   "cell_type": "markdown",
   "metadata": {},
   "source": [
    "# Data"
   ]
  },
  {
   "cell_type": "markdown",
   "metadata": {},
   "source": [
    "Describe the data that you will be using to solve the problem or execute your idea. Remember that you will need to use the Foursquare location data to solve the problem or execute your idea. You can absolutely use other datasets in combination with the Foursquare location data. So make sure that you provide adequate explanation and discussion, with examples, of the data that you will be using, even if it is only Foursquare location data."
   ]
  },
  {
   "cell_type": "markdown",
   "metadata": {},
   "source": [
    "The following datasets will be used:\n",
    "\n",
    "- Foursquare data on legal practices\n",
    "- Singapore Planning Districts for districting and clustering (https://en.wikipedia.org/wiki/Planning_Areas_of_Singapore)\n",
    "- Legal Services Regulatory Authority directory"
   ]
  },
  {
   "cell_type": "markdown",
   "metadata": {},
   "source": [
    "I will use the Singapore Planning Districts as a starting point, before using the Foursquare data to find out where residential districts are. I will then use both Foursquare data and the LSRA directory to examine where law practices are located, and their proximity to residential areas."
   ]
  }
 ],
 "metadata": {
  "kernelspec": {
   "display_name": "Python 3",
   "language": "python",
   "name": "python3"
  },
  "language_info": {
   "codemirror_mode": {
    "name": "ipython",
    "version": 3
   },
   "file_extension": ".py",
   "mimetype": "text/x-python",
   "name": "python",
   "nbconvert_exporter": "python",
   "pygments_lexer": "ipython3",
   "version": "3.7.3"
  }
 },
 "nbformat": 4,
 "nbformat_minor": 2
}
